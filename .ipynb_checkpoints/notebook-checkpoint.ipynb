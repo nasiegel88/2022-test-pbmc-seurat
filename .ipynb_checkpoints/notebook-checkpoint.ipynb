{
 "cells": [
  {
   "cell_type": "markdown",
   "id": "6fd74442",
   "metadata": {},
   "source": [
    "## Setup seurat object"
   ]
  },
  {
   "cell_type": "code",
   "execution_count": 2,
   "id": "0fbd60d7",
   "metadata": {},
   "outputs": [],
   "source": [
    "# download example data\n",
    "source('data.r')"
   ]
  },
  {
   "cell_type": "code",
   "execution_count": 3,
   "id": "83239371",
   "metadata": {},
   "outputs": [
    {
     "name": "stderr",
     "output_type": "stream",
     "text": [
      "Warning message:\n",
      "“Feature names cannot have underscores ('_'), replacing with dashes ('-')”\n"
     ]
    },
    {
     "data": {
      "text/plain": [
       "An object of class Seurat \n",
       "13714 features across 2700 samples within 1 assay \n",
       "Active assay: RNA (13714 features, 0 variable features)"
      ]
     },
     "metadata": {},
     "output_type": "display_data"
    }
   ],
   "source": [
    "library(dplyr)\n",
    "library(Seurat)\n",
    "library(patchwork)\n",
    "\n",
    "# Load the PBMC dataset\n",
    "pbmc.data <- Read10X(data.dir = \"filtered_gene_bc_matrices/hg19/\")\n",
    "# Initialize the Seurat object with the raw (non-normalized data).\n",
    "pbmc <- CreateSeuratObject(counts = pbmc.data, project = \"pbmc3k\", min.cells = 3, min.features = 200)\n",
    "pbmc"
   ]
  },
  {
   "cell_type": "markdown",
   "id": "9c61d7eb",
   "metadata": {},
   "source": [
    "## Standard pre-processing workflow\n",
    "The steps below encompass the standard pre-processing workflow for scRNA-seq data in Seurat. These represent the selection and filtration of cells based on QC metrics, data normalization and scaling, and the detection of highly variable features."
   ]
  },
  {
   "cell_type": "code",
   "execution_count": null,
   "id": "c4a03f67",
   "metadata": {},
   "outputs": [],
   "source": [
    "# The [[ operator can add columns to object metadata. This is a great place to stash QC stats\n",
    "pbmc[[\"percent.mt\"]] <- PercentageFeatureSet(pbmc, pattern = \"^MT-\")"
   ]
  },
  {
   "cell_type": "code",
   "execution_count": null,
   "id": "cb6d0c47",
   "metadata": {},
   "outputs": [],
   "source": [
    "# Visualize QC metrics as a violin plot\n",
    "VlnPlot(pbmc, features = c(\"nFeature_RNA\", \"nCount_RNA\", \"percent.mt\"), ncol = 3)"
   ]
  },
  {
   "cell_type": "code",
   "execution_count": null,
   "id": "3d31153f",
   "metadata": {},
   "outputs": [],
   "source": [
    "# FeatureScatter is typically used to visualize feature-feature relationships, but can be used\n",
    "# for anything calculated by the object, i.e. columns in object metadata, PC scores etc.\n",
    "\n",
    "plot1 <- FeatureScatter(pbmc, feature1 = \"nCount_RNA\", feature2 = \"percent.mt\")\n",
    "plot2 <- FeatureScatter(pbmc, feature1 = \"nCount_RNA\", feature2 = \"nFeature_RNA\")\n",
    "plot1 + plot2"
   ]
  },
  {
   "cell_type": "code",
   "execution_count": null,
   "id": "2e361032",
   "metadata": {},
   "outputs": [],
   "source": [
    "pbmc <- subset(pbmc, subset = nFeature_RNA > 200 & nFeature_RNA < 2500 & percent.mt < 5)"
   ]
  },
  {
   "cell_type": "markdown",
   "id": "afc30081",
   "metadata": {},
   "source": [
    "## Normalizing the data"
   ]
  },
  {
   "cell_type": "code",
   "execution_count": null,
   "id": "265137d7",
   "metadata": {},
   "outputs": [],
   "source": [
    "pbmc <- NormalizeData(pbmc, normalization.method = \"LogNormalize\", scale.factor = 10000)\n",
    "pbmc <- NormalizeData(pbmc)"
   ]
  },
  {
   "cell_type": "markdown",
   "id": "a4bde7f3",
   "metadata": {},
   "source": [
    "## Identification of highly variable features (feature selection)"
   ]
  },
  {
   "cell_type": "code",
   "execution_count": null,
   "id": "ce6c0d9a",
   "metadata": {},
   "outputs": [],
   "source": [
    "pbmc <- FindVariableFeatures(pbmc, selection.method = \"vst\", nfeatures = 2000)\n",
    "\n",
    "# Identify the 10 most highly variable genes\n",
    "top10 <- head(VariableFeatures(pbmc), 10)\n",
    "\n",
    "# plot variable features with and without labels\n",
    "plot1 <- VariableFeaturePlot(pbmc)\n",
    "plot2 <- LabelPoints(plot = plot1, points = top10, repel = TRUE)\n",
    "plot1 + plot2"
   ]
  },
  {
   "cell_type": "markdown",
   "id": "2a762fb2",
   "metadata": {},
   "source": [
    "## Scaling the data"
   ]
  },
  {
   "cell_type": "code",
   "execution_count": null,
   "id": "9f0786ec",
   "metadata": {},
   "outputs": [],
   "source": [
    "all.genes <- rownames(pbmc)\n",
    "pbmc <- ScaleData(pbmc, features = all.genes)"
   ]
  },
  {
   "cell_type": "markdown",
   "id": "143a5a72",
   "metadata": {},
   "source": [
    "## Perform linear dimensional reduction"
   ]
  },
  {
   "cell_type": "code",
   "execution_count": null,
   "id": "1a22b993",
   "metadata": {},
   "outputs": [],
   "source": [
    "pbmc <- RunPCA(pbmc, features = VariableFeatures(object = pbmc))\n",
    "# Examine and visualize PCA results a few different ways\n",
    "print(pbmc[[\"pca\"]], dims = 1:5, nfeatures = 5)"
   ]
  },
  {
   "cell_type": "code",
   "execution_count": null,
   "id": "cb6c4cc2",
   "metadata": {},
   "outputs": [],
   "source": [
    "VizDimLoadings(pbmc, dims = 1:2, reduction = \"pca\")"
   ]
  },
  {
   "cell_type": "code",
   "execution_count": null,
   "id": "91c5dfda",
   "metadata": {},
   "outputs": [],
   "source": [
    "DimPlot(pbmc, reduction = \"pca\")"
   ]
  },
  {
   "cell_type": "code",
   "execution_count": null,
   "id": "54956a24",
   "metadata": {},
   "outputs": [],
   "source": [
    "DimHeatmap(pbmc, dims = 1, cells = 500, balanced = TRUE)"
   ]
  },
  {
   "cell_type": "code",
   "execution_count": null,
   "id": "40b63532",
   "metadata": {},
   "outputs": [],
   "source": [
    "DimHeatmap(pbmc, dims = 1:15, cells = 500, balanced = TRUE)"
   ]
  },
  {
   "cell_type": "markdown",
   "id": "a1d6e0d6",
   "metadata": {},
   "source": [
    "## Determine the ‘dimensionality’ of the dataset"
   ]
  },
  {
   "cell_type": "code",
   "execution_count": null,
   "id": "fed53dba",
   "metadata": {},
   "outputs": [],
   "source": [
    "# NOTE: This process can take a long time for big datasets, comment out for expediency. More\n",
    "# approximate techniques such as those implemented in ElbowPlot() can be used to reduce\n",
    "# computation time\n",
    "pbmc <- JackStraw(pbmc, num.replicate = 100)\n",
    "pbmc <- ScoreJackStraw(pbmc, dims = 1:20)"
   ]
  },
  {
   "cell_type": "code",
   "execution_count": null,
   "id": "b5a84cde",
   "metadata": {},
   "outputs": [],
   "source": [
    "JackStrawPlot(pbmc, dims = 1:15)"
   ]
  },
  {
   "cell_type": "code",
   "execution_count": null,
   "id": "100cd121",
   "metadata": {},
   "outputs": [],
   "source": [
    "ElbowPlot(pbmc)"
   ]
  },
  {
   "cell_type": "markdown",
   "id": "fe65c33b",
   "metadata": {},
   "source": [
    "## Cluster the cells"
   ]
  },
  {
   "cell_type": "code",
   "execution_count": null,
   "id": "a55bbc6e",
   "metadata": {},
   "outputs": [],
   "source": [
    "pbmc <- FindNeighbors(pbmc, dims = 1:10)\n",
    "pbmc <- FindClusters(pbmc, resolution = 0.5)"
   ]
  },
  {
   "cell_type": "code",
   "execution_count": null,
   "id": "2ffd6094",
   "metadata": {},
   "outputs": [],
   "source": [
    "# Look at cluster IDs of the first 5 cells\n",
    "head(Idents(pbmc), 5)"
   ]
  },
  {
   "cell_type": "markdown",
   "id": "760f6302",
   "metadata": {},
   "source": [
    "## Run non-linear dimensional reduction (UMAP/tSNE)"
   ]
  },
  {
   "cell_type": "code",
   "execution_count": null,
   "id": "162706c9",
   "metadata": {},
   "outputs": [],
   "source": [
    "pbmc <- RunUMAP(pbmc, dims = 1:10)"
   ]
  },
  {
   "cell_type": "code",
   "execution_count": null,
   "id": "ce88a013",
   "metadata": {},
   "outputs": [],
   "source": [
    "DimPlot(pbmc, reduction = \"umap\")"
   ]
  },
  {
   "cell_type": "markdown",
   "id": "bb530870",
   "metadata": {},
   "source": [
    "You can save the object at this point so that it can easily be loaded back in without having to rerun the computationally intensive steps performed above, or easily shared with collaborators."
   ]
  },
  {
   "cell_type": "code",
   "execution_count": null,
   "id": "bb136eb1",
   "metadata": {},
   "outputs": [],
   "source": [
    "saveRDS(pbmc, file = \"pbmc_tutorial.rds\")"
   ]
  },
  {
   "cell_type": "markdown",
   "id": "b890f88f",
   "metadata": {},
   "source": [
    "## Finding differentially expressed features (cluster biomarkers)"
   ]
  },
  {
   "cell_type": "code",
   "execution_count": null,
   "id": "8e17c0e1",
   "metadata": {},
   "outputs": [],
   "source": [
    "# find all markers of cluster 1\n",
    "cluster1.markers <- FindMarkers(pbmc, ident.1 = 1, min.pct = 0.25)\n",
    "head(cluster1.markers, n = 5)"
   ]
  },
  {
   "cell_type": "code",
   "execution_count": null,
   "id": "fe6716bb",
   "metadata": {},
   "outputs": [],
   "source": [
    "# find all markers distinguishing cluster 5 from clusters 0 and 3\n",
    "cluster5.markers <- FindMarkers(pbmc, ident.1 = 5, ident.2 = c(0, 3), min.pct = 0.25)\n",
    "head(cluster5.markers, n = 5)"
   ]
  },
  {
   "cell_type": "code",
   "execution_count": null,
   "id": "9538792d",
   "metadata": {},
   "outputs": [],
   "source": [
    "# find markers for every cluster compared to all remaining cells, report only the positive ones\n",
    "pbmc.markers <- FindAllMarkers(pbmc, only.pos = TRUE, min.pct = 0.25, logfc.threshold = 0.25)\n",
    "pbmc.markers %>% group_by(cluster) %>% top_n(n = 2, wt = avg_logFC)"
   ]
  },
  {
   "cell_type": "code",
   "execution_count": null,
   "id": "bc662d9d",
   "metadata": {},
   "outputs": [],
   "source": [
    "cluster1.markers <- FindMarkers(pbmc, ident.1 = 0, logfc.threshold = 0.25, test.use = \"roc\", only.pos = TRUE)"
   ]
  },
  {
   "cell_type": "code",
   "execution_count": null,
   "id": "7de6febd",
   "metadata": {},
   "outputs": [],
   "source": [
    "VlnPlot(pbmc, features = c(\"MS4A1\", \"CD79A\"))"
   ]
  },
  {
   "cell_type": "code",
   "execution_count": null,
   "id": "d59f97a0",
   "metadata": {},
   "outputs": [],
   "source": [
    "# you can plot raw counts as well\n",
    "VlnPlot(pbmc, features = c(\"NKG7\", \"PF4\"), slot = \"counts\", log = TRUE)"
   ]
  },
  {
   "cell_type": "code",
   "execution_count": null,
   "id": "1af59729",
   "metadata": {},
   "outputs": [],
   "source": [
    "FeaturePlot(pbmc, features = c(\"MS4A1\", \"GNLY\", \"CD3E\", \"CD14\", \"FCER1A\", \"FCGR3A\", \"LYZ\", \"PPBP\", \n",
    "    \"CD8A\"))"
   ]
  },
  {
   "cell_type": "code",
   "execution_count": null,
   "id": "38a67a55",
   "metadata": {},
   "outputs": [],
   "source": [
    "top10 <- pbmc.markers %>% group_by(cluster) %>% top_n(n = 10, wt = avg_logFC)\n",
    "DoHeatmap(pbmc, features = top10$gene) + NoLegend()"
   ]
  },
  {
   "cell_type": "markdown",
   "id": "0cf1bd7a",
   "metadata": {},
   "source": [
    "## Assigning cell type identity to clusters"
   ]
  },
  {
   "cell_type": "code",
   "execution_count": null,
   "id": "5655966a",
   "metadata": {},
   "outputs": [],
   "source": [
    "new.cluster.ids <- c(\"Naive CD4 T\", \"Memory CD4 T\", \"CD14+ Mono\", \"B\", \"CD8 T\", \"FCGR3A+ Mono\", \n",
    "    \"NK\", \"DC\", \"Platelet\")\n",
    "names(new.cluster.ids) <- levels(pbmc)\n",
    "pbmc <- RenameIdents(pbmc, new.cluster.ids)\n",
    "DimPlot(pbmc, reduction = \"umap\", label = TRUE, pt.size = 0.5) + NoLegend()"
   ]
  },
  {
   "cell_type": "code",
   "execution_count": null,
   "id": "1a27574c",
   "metadata": {},
   "outputs": [],
   "source": [
    "saveRDS(pbmc, file = \"pbmc3k_final.rds\")"
   ]
  }
 ],
 "metadata": {
  "kernelspec": {
   "display_name": "R",
   "language": "R",
   "name": "ir"
  },
  "language_info": {
   "codemirror_mode": "r",
   "file_extension": ".r",
   "mimetype": "text/x-r-source",
   "name": "R",
   "pygments_lexer": "r",
   "version": "4.1.2"
  }
 },
 "nbformat": 4,
 "nbformat_minor": 5
}
